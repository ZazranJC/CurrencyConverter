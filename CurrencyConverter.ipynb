{
  "nbformat": 4,
  "nbformat_minor": 0,
  "metadata": {
    "colab": {
      "provenance": [],
      "authorship_tag": "ABX9TyOYyKnE9SWxcN09OpbDCF8l",
      "include_colab_link": true
    },
    "kernelspec": {
      "name": "python3",
      "display_name": "Python 3"
    },
    "language_info": {
      "name": "python"
    }
  },
  "cells": [
    {
      "cell_type": "markdown",
      "metadata": {
        "id": "view-in-github",
        "colab_type": "text"
      },
      "source": [
        "<a href=\"https://colab.research.google.com/github/ZazranJC/CurrencyConverter/blob/main/CurrencyConverter.ipynb\" target=\"_parent\"><img src=\"https://colab.research.google.com/assets/colab-badge.svg\" alt=\"Open In Colab\"/></a>"
      ]
    },
    {
      "cell_type": "code",
      "execution_count": null,
      "metadata": {
        "id": "TcIs_9keQd_f"
      },
      "outputs": [],
      "source": [
        "#Building A Currency Converter\n",
        "\n",
        "\n",
        "import requests\n",
        "\n",
        "#For base_url We will have to get an API link that works and substitute it here. Once done the code should work fine.\n",
        "base_url = 'https://api.exchangeratesapi.io/v1/latest?access_key=c362b90d7eeceb67f08902bc6435ef09'\n",
        "\n",
        "\n",
        "#Gather the Parameters\n",
        "date = input(\"Please enter the date (in the format 'yyyy-mm-dd' or 'latest'): \")\n",
        "base = input(\"Convert from (currency: )\")\n",
        "curr = input(\"Convert to (currency): \")\n",
        "quan = float(input(\"How much {} do you want to convert: \".format(base)))\n",
        "\n",
        "#Construct URL and send a request\n",
        "url = base_url + \"/\" + date + \"?base=\" + base + \"&symbols=\" + curr\n",
        "response = requests.get(url)\n",
        "\n",
        "#For failed request, print the status code and error\n",
        "if(response.ok is False):\n",
        "  print(\"\\nError {}\".format(response.status_code))\n",
        "  print(response.json()['error'])\n",
        "#For successful request, calculate the result\n",
        "else:\n",
        "  data = response.json()\n",
        "  rate = data['rates'][curr]\n",
        "\n",
        "#Print out the results in a nice format\n",
        "  result = quan*rate\n",
        "\n",
        "  print(\"\\n{0} {1} i equal to {2} {3}, based upon exchange rates on {4}\".format(quan,base,result,curr,data['date']))\n",
        "\n"
      ]
    },
    {
      "cell_type": "code",
      "source": [],
      "metadata": {
        "id": "fh-gByrjWGRI"
      },
      "execution_count": null,
      "outputs": []
    }
  ]
}